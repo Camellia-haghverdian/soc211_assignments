{
 "cells": [
  {
   "cell_type": "markdown",
   "metadata": {},
   "source": [
    "# Research assignment 4\n",
    "\n",
    "\n",
    "Camellia Haghverdian\n",
    "\n",
    "Loan Repayment, State Grants, and Acceptance Rate\n",
    "\n",
    "03/15/2024"
   ]
  },
  {
   "cell_type": "markdown",
   "metadata": {},
   "source": [
    "## 1. Develop hypotheses about interactions between your independent variables [1 pt]\n",
    "\n",
    "You can use the GSS data, Student aid data, or your own data"
   ]
  },
  {
   "cell_type": "markdown",
   "metadata": {},
   "source": [
    "    A. Write at least one hypothesis involving one of the two following types of interactions\n",
    "        1) nominal * nominal\n",
    "        2) nominal * interval-ratio\n",
    "        \n",
    "    B. State the predicted direction of association between your dependent variable and:\n",
    "        1) each of the 2 independent variables by themselves\n",
    "        2) the interaction of the 2 indendent variables\n",
    "        3) you can predict that there is no association\n",
    "        \n",
    "    C. Write a couple sentences about the theoretical reasons (prior knowledge / research) for each of your predictions"
   ]
  },
  {
   "cell_type": "markdown",
   "metadata": {},
   "source": [
    "For this assignment, I've woked with y_lo_inc_rpy (low income repayment) as my dependent variable, and sgrnt_low_~c (student grant for low income students) as my independent interval ratio variable. For interactions, I added a third interval ratio independent variable, acceptrate (college acceptance rate), which I turned into a nominal variable.\n",
    "\n",
    "I think the more grants low income students receive, the more likely they are to pay back their student loans. In addition, I assume that the acceptance rate of universities determines the amount of student grants the universities receive. \n",
    "\n",
    "This is because the schools with more grants usually have low acceptance rates and students in such schools, given that they are from low income families, have to pay back bigger portions of student debt (Hamilton, Laura T. and Kelly Nielsen. 2021. Broke: The Racial Consequences of Underfunding Public Universities. Chicago: The University of Chicago Press)."
   ]
  },
  {
   "cell_type": "markdown",
   "metadata": {},
   "source": [
    "## 2. Test your hypotheses [3 pts]\n",
    "\n",
    "    A. For each hypothesized interactive relationship: use regression with the appropriate interaction syntax to estimate 1 model with uninteracted variables and 1 model with interacted variables. Use --esttab-- to output a model with the 2 tables\n",
    "    \n",
    "    B. Use margins and marginsplot with the appropriate syntax to visually represent your regression adjusted estimates for given nominal categories or at given interval-ratio values."
   ]
  },
  {
   "cell_type": "code",
   "execution_count": 1,
   "metadata": {},
   "outputs": [
    {
     "data": {
      "text/html": [
       "<style>div.jp-Notebook .datagrid-container {min-height: 448px; }</style>"
      ],
      "text/plain": [
       "<IPython.core.display.HTML object>"
      ]
     },
     "metadata": {},
     "output_type": "display_data"
    },
    {
     "name": "stdout",
     "output_type": "stream",
     "text": [
      "(19 vars, 33 obs)\n"
     ]
    }
   ],
   "source": [
    "insheet using \"/Users/camellia/Documents/Stats 2/soc211_assignments/Week 8/loanrepay2013_highestresearch.csv\"\n",
    "eststo clear"
   ]
  },
  {
   "cell_type": "code",
   "execution_count": 2,
   "metadata": {
    "collapsed": true,
    "jupyter": {
     "outputs_hidden": true
    },
    "tags": []
   },
   "outputs": [
    {
     "name": "stdout",
     "output_type": "stream",
     "text": [
      "\n",
      "-------------------------------------------------------------------------------\n",
      "y_lo_inc_rpy                                                       Y_lo_inc_rpy\n",
      "-------------------------------------------------------------------------------\n",
      "\n",
      "                  Type: Numeric (float)\n",
      "\n",
      "                 Range: [47.9304,78.4337]             Units: .0001\n",
      "         Unique values: 33                        Missing .: 0/33\n",
      "\n",
      "                  Mean: 66.2211\n",
      "             Std. dev.: 8.30001\n",
      "\n",
      "           Percentiles:     10%       25%       50%       75%       90%\n",
      "                        56.1845   60.4167   67.2012   73.6202   75.6098\n",
      "\n",
      "-------------------------------------------------------------------------------\n",
      "sgrnt_low_inc                                                       (unlabeled)\n",
      "-------------------------------------------------------------------------------\n",
      "\n",
      "                  Type: Numeric (float)\n",
      "\n",
      "                 Range: [438.66541,31988.313]         Units: .00001\n",
      "         Unique values: 33                        Missing .: 0/33\n",
      "\n",
      "                  Mean:  5975.7\n",
      "             Std. dev.: 5837.97\n",
      "\n",
      "           Percentiles:     10%       25%       50%       75%       90%\n",
      "                        714.635   1529.61   5026.69   8263.27   10553.3\n",
      "\n",
      "-------------------------------------------------------------------------------\n",
      "acceptrate                                                          (unlabeled)\n",
      "-------------------------------------------------------------------------------\n",
      "\n",
      "                  Type: Numeric (float)\n",
      "\n",
      "                 Range: [.21463495,.91753805]         Units: 1.000e-08\n",
      "         Unique values: 33                        Missing .: 0/33\n",
      "\n",
      "                  Mean: .584394\n",
      "             Std. dev.:  .18895\n",
      "\n",
      "           Percentiles:     10%       25%       50%       75%       90%\n",
      "                        .339553   .453192   .594614   .726273    .84045\n"
     ]
    }
   ],
   "source": [
    "codebook y_lo_inc_rpy sgrnt_low_~c acceptrate"
   ]
  },
  {
   "cell_type": "code",
   "execution_count": 3,
   "metadata": {
    "collapsed": true,
    "jupyter": {
     "outputs_hidden": true
    },
    "tags": []
   },
   "outputs": [
    {
     "name": "stdout",
     "output_type": "stream",
     "text": [
      "\n",
      " acceptrate |      Freq.     Percent        Cum.\n",
      "------------+-----------------------------------\n",
      "    .214635 |          1        3.03        3.03\n",
      "    .228407 |          1        3.03        6.06\n",
      "   .3206216 |          1        3.03        9.09\n",
      "   .3395534 |          1        3.03       12.12\n",
      "   .3987971 |          1        3.03       15.15\n",
      "   .3991674 |          1        3.03       18.18\n",
      "   .4189757 |          1        3.03       21.21\n",
      "   .4269711 |          1        3.03       24.24\n",
      "   .4531918 |          1        3.03       27.27\n",
      "   .4872242 |          1        3.03       30.30\n",
      "   .4924802 |          1        3.03       33.33\n",
      "   .4995829 |          1        3.03       36.36\n",
      "   .5001475 |          1        3.03       39.39\n",
      "   .5190052 |          1        3.03       42.42\n",
      "   .5257108 |          1        3.03       45.45\n",
      "   .5543631 |          1        3.03       48.48\n",
      "   .5946137 |          1        3.03       51.52\n",
      "   .6090856 |          1        3.03       54.55\n",
      "   .6095234 |          1        3.03       57.58\n",
      "   .6147988 |          1        3.03       60.61\n",
      "   .6488514 |          1        3.03       63.64\n",
      "   .6544499 |          1        3.03       66.67\n",
      "   .6691192 |          1        3.03       69.70\n",
      "    .724237 |          1        3.03       72.73\n",
      "   .7262731 |          1        3.03       75.76\n",
      "   .7314519 |          1        3.03       78.79\n",
      "   .7800129 |          1        3.03       81.82\n",
      "   .8300821 |          1        3.03       84.85\n",
      "   .8302125 |          1        3.03       87.88\n",
      "   .8404499 |          1        3.03       90.91\n",
      "    .852661 |          1        3.03       93.94\n",
      "   .8728185 |          1        3.03       96.97\n",
      "    .917538 |          1        3.03      100.00\n",
      "------------+-----------------------------------\n",
      "      Total |         33      100.00\n"
     ]
    }
   ],
   "source": [
    "tab acceptrate, missing"
   ]
  },
  {
   "cell_type": "code",
   "execution_count": 4,
   "metadata": {
    "tags": []
   },
   "outputs": [
    {
     "name": "stdout",
     "output_type": "stream",
     "text": [
      "(33 missing values generated)\n",
      "(9 real changes made)\n",
      "(16 real changes made)\n",
      "(8 real changes made)\n"
     ]
    }
   ],
   "source": [
    "*drop collegeacceptance\n",
    "gen collegeacceptance=.\n",
    "\n",
    "replace collegeacceptance=1 if acceptrate>=0 & acceptrate <=.4531929\n",
    "replace collegeacceptance=2 if acceptrate>=.453193 & acceptrate <=.7262739\n",
    "replace collegeacceptance=3 if acceptrate>=.726274"
   ]
  },
  {
   "cell_type": "code",
   "execution_count": 5,
   "metadata": {},
   "outputs": [],
   "source": [
    "label define collegeacceptance 1 \"0-25%\" 2 \"26-75%\" 3 \"76-100%\", replace\n",
    "\n",
    "label values collegeacceptance collegeacceptance"
   ]
  },
  {
   "cell_type": "code",
   "execution_count": 6,
   "metadata": {
    "tags": []
   },
   "outputs": [
    {
     "name": "stdout",
     "output_type": "stream",
     "text": [
      "\n",
      "-------------------------------------------------------------------------------\n",
      "collegeacceptance                                                   (unlabeled)\n",
      "-------------------------------------------------------------------------------\n",
      "\n",
      "                  Type: Numeric (float)\n",
      "                 Label: collegeacceptance\n",
      "\n",
      "                 Range: [1,3]                         Units: 1\n",
      "         Unique values: 3                         Missing .: 0/33\n",
      "\n",
      "            Tabulation: Freq.   Numeric  Label\n",
      "                            9         1  0-25%\n",
      "                           16         2  26-75%\n",
      "                            8         3  76-100%\n"
     ]
    }
   ],
   "source": [
    "codebook collegeacceptance"
   ]
  },
  {
   "cell_type": "code",
   "execution_count": 8,
   "metadata": {
    "collapsed": true,
    "jupyter": {
     "outputs_hidden": true
    },
    "tags": []
   },
   "outputs": [
    {
     "name": "stdout",
     "output_type": "stream",
     "text": [
      "\n",
      "sgrnt_low_i |\n",
      "         nc |      Freq.     Percent        Cum.\n",
      "------------+-----------------------------------\n",
      "   438.6654 |          1        3.03        3.03\n",
      "   602.3331 |          1        3.03        6.06\n",
      "   656.8206 |          1        3.03        9.09\n",
      "   714.6354 |          1        3.03       12.12\n",
      "   798.1365 |          1        3.03       15.15\n",
      "   944.6102 |          1        3.03       18.18\n",
      "   994.1364 |          1        3.03       21.21\n",
      "   1151.217 |          1        3.03       24.24\n",
      "   1529.607 |          1        3.03       27.27\n",
      "   2234.665 |          1        3.03       30.30\n",
      "   2621.403 |          1        3.03       33.33\n",
      "   4000.597 |          1        3.03       36.36\n",
      "   4093.396 |          1        3.03       39.39\n",
      "   4674.777 |          1        3.03       42.42\n",
      "   4739.999 |          1        3.03       45.45\n",
      "   4782.049 |          1        3.03       48.48\n",
      "   5026.689 |          1        3.03       51.52\n",
      "   5272.785 |          1        3.03       54.55\n",
      "   5683.487 |          1        3.03       57.58\n",
      "   6240.334 |          1        3.03       60.61\n",
      "   6585.675 |          1        3.03       63.64\n",
      "   6656.691 |          1        3.03       66.67\n",
      "   7226.602 |          1        3.03       69.70\n",
      "    7626.35 |          1        3.03       72.73\n",
      "   8263.273 |          1        3.03       75.76\n",
      "   9523.463 |          1        3.03       78.79\n",
      "   9699.962 |          1        3.03       81.82\n",
      "   9742.227 |          1        3.03       84.85\n",
      "   10214.98 |          1        3.03       87.88\n",
      "   10553.27 |          1        3.03       90.91\n",
      "   10871.33 |          1        3.03       93.94\n",
      "   11045.71 |          1        3.03       96.97\n",
      "   31988.31 |          1        3.03      100.00\n",
      "------------+-----------------------------------\n",
      "      Total |         33      100.00\n",
      "\n",
      "Y_lo_inc_rp |\n",
      "          y |      Freq.     Percent        Cum.\n",
      "------------+-----------------------------------\n",
      "    47.9304 |          1        3.03        3.03\n",
      "    50.4668 |          1        3.03        6.06\n",
      "     55.709 |          1        3.03        9.09\n",
      "    56.1845 |          1        3.03       12.12\n",
      "    57.0114 |          1        3.03       15.15\n",
      "    57.2512 |          1        3.03       18.18\n",
      "    57.5044 |          1        3.03       21.21\n",
      "    58.3367 |          1        3.03       24.24\n",
      "    60.4167 |          1        3.03       27.27\n",
      "    60.8015 |          1        3.03       30.30\n",
      "    61.0008 |          1        3.03       33.33\n",
      "    62.6499 |          1        3.03       36.36\n",
      "    63.0356 |          1        3.03       39.39\n",
      "    63.6468 |          1        3.03       42.42\n",
      "    64.5707 |          1        3.03       45.45\n",
      "    66.5521 |          1        3.03       48.48\n",
      "    67.2012 |          1        3.03       51.52\n",
      "    68.2734 |          1        3.03       54.55\n",
      "    68.5154 |          1        3.03       57.58\n",
      "    69.1592 |          1        3.03       60.61\n",
      "    70.7888 |          1        3.03       63.64\n",
      "    71.2029 |          1        3.03       66.67\n",
      "    72.7894 |          1        3.03       69.70\n",
      "    72.9519 |          1        3.03       72.73\n",
      "    73.6202 |          1        3.03       75.76\n",
      "    74.3373 |          1        3.03       78.79\n",
      "    74.6398 |          1        3.03       81.82\n",
      "     75.063 |          1        3.03       84.85\n",
      "    75.5474 |          1        3.03       87.88\n",
      "    75.6098 |          1        3.03       90.91\n",
      "    75.8465 |          1        3.03       93.94\n",
      "    78.2464 |          1        3.03       96.97\n",
      "    78.4337 |          1        3.03      100.00\n",
      "------------+-----------------------------------\n",
      "      Total |         33      100.00\n"
     ]
    }
   ],
   "source": [
    "tab sgrnt_low_inc \n",
    "tab y_lo_inc_rpy"
   ]
  },
  {
   "cell_type": "code",
   "execution_count": 9,
   "metadata": {
    "tags": []
   },
   "outputs": [
    {
     "name": "stdout",
     "output_type": "stream",
     "text": [
      "\n",
      "             | accept~e sgrnt_~c y_lo_i~y\n",
      "-------------+---------------------------\n",
      "  acceptrate |   1.0000 \n",
      "sgrnt_low_~c |  -0.3873   1.0000 \n",
      "y_lo_inc_rpy |  -0.6463   0.5212   1.0000 \n"
     ]
    }
   ],
   "source": [
    "pwcorr acceptrate sgrnt_low_inc y_lo_inc_rpy"
   ]
  },
  {
   "cell_type": "code",
   "execution_count": 17,
   "metadata": {
    "tags": []
   },
   "outputs": [],
   "source": [
    "*The matrix for sgrnt_low_~c shows -0.3873, which might mean thee is a negative moderate interaction between student grant aid and school acceptance rate.\n",
    "*However, the matrix shows -0.6463 for y_lo_inc_rpy which indicates a hig hcorrelation between low income loan repayment and school's acceptance rate."
   ]
  },
  {
   "cell_type": "code",
   "execution_count": 10,
   "metadata": {
    "tags": []
   },
   "outputs": [
    {
     "name": "stdout",
     "output_type": "stream",
     "text": [
      "\n",
      "      Source |       SS           df       MS      Number of obs   =        33\n",
      "-------------+----------------------------------   F(3, 29)        =      7.50\n",
      "       Model |  962.958445         3  320.986148   Prob > F        =    0.0007\n",
      "    Residual |  1241.52684        29  42.8112703   R-squared       =    0.4368\n",
      "-------------+----------------------------------   Adj R-squared   =    0.3786\n",
      "       Total |  2204.48528        32  68.8901651   Root MSE        =     6.543\n",
      "\n",
      "------------------------------------------------------------------------------\n",
      "y_lo_inc_rpy | Coefficient  Std. err.      t    P>|t|     [95% conf. interval]\n",
      "-------------+----------------------------------------------------------------\n",
      "sgrnt_low_~c |   .0005538   .0002222     2.49   0.019     .0000993    .0010083\n",
      "             |\n",
      "collegeacc~e |\n",
      "     26-75%  |   -6.18491     2.7263    -2.27   0.031    -11.76082   -.6090002\n",
      "    76-100%  |  -9.439257   3.457599    -2.73   0.011    -16.51084   -2.367673\n",
      "             |\n",
      "       _cons |   68.19852   2.743426    24.86   0.000     62.58759    73.80946\n",
      "------------------------------------------------------------------------------\n",
      "(est1 stored)\n"
     ]
    }
   ],
   "source": [
    "eststo: reg y_lo_inc_rpy sgrnt_low_inc i.collegeacceptance"
   ]
  },
  {
   "cell_type": "code",
   "execution_count": 18,
   "metadata": {
    "tags": []
   },
   "outputs": [],
   "source": [
    "*The omitted variable in this regression is the 0-25% group, which is going to be my comparison category.\n",
    "*The P value for 26-75% acceptance rate is 0.031 and the co-eficient is -6.18491.\n",
    "*The P value for 76-100% acceptance rate is 0.011 and the co-eficient is -9.439257.\n",
    "*Both P values show strong statistical significance as they are below .05. That would mean that students in schools with the acceptance rates between 26-100% have //\n",
    "// lower loan repayment percentages compared to the comparison group, with the difference that the significance in the 76-100% category is stronger than the 26-75% category."
   ]
  },
  {
   "cell_type": "code",
   "execution_count": 11,
   "metadata": {
    "tags": []
   },
   "outputs": [
    {
     "name": "stdout",
     "output_type": "stream",
     "text": [
      "\n",
      "      Source |       SS           df       MS      Number of obs   =        33\n",
      "-------------+----------------------------------   F(5, 27)        =      5.19\n",
      "       Model |  1080.47447         5  216.094895   Prob > F        =    0.0018\n",
      "    Residual |  1124.01081        27    41.63003   R-squared       =    0.4901\n",
      "-------------+----------------------------------   Adj R-squared   =    0.3957\n",
      "       Total |  2204.48528        32  68.8901651   Root MSE        =    6.4521\n",
      "\n",
      "------------------------------------------------------------------------------\n",
      "y_lo_inc_rpy | Coefficient  Std. err.      t    P>|t|     [95% conf. interval]\n",
      "-------------+----------------------------------------------------------------\n",
      "sgrnt_low_~c |  -.0002344   .0008648    -0.27   0.788    -.0020089    .0015401\n",
      "             |\n",
      "collegeacc~e |\n",
      "     26-75%  |  -12.22826   7.213785    -1.70   0.102    -27.02972    2.573206\n",
      "    76-100%  |  -19.29332   7.722638    -2.50   0.019    -35.13887   -3.447778\n",
      "             |\n",
      "collegeacc~e#|\n",
      "          c. |\n",
      "sgrnt_low_~c |\n",
      "     26-75%  |   .0008071   .0008944     0.90   0.375    -.0010279    .0026422\n",
      "    76-100%  |   .0036646   .0022171     1.65   0.110    -.0008844    .0082137\n",
      "             |\n",
      "       _cons |   74.10156   6.824381    10.86   0.000     60.09909    88.10403\n",
      "------------------------------------------------------------------------------\n",
      "(est2 stored)\n"
     ]
    }
   ],
   "source": [
    "eststo: reg y_lo_inc_rpy c.sgrnt_low_inc##i.collegeacceptance"
   ]
  },
  {
   "cell_type": "code",
   "execution_count": null,
   "metadata": {},
   "outputs": [],
   "source": [
    "*All the P values in the first half of this regression table show little statistical significance except for 0.019 (<.05) for the 76-100% //\n",
    "//acceptance rate category.\n",
    "*Looking at the P values in the second half (0.375 for the 26-75% category and 0.110 for the 76-100% category), I can see no statistical significance, //\n",
    "// which would mean that acceptance rate does not interact with low income loan repyament and grant aid."
   ]
  },
  {
   "cell_type": "code",
   "execution_count": 12,
   "metadata": {
    "tags": []
   },
   "outputs": [
    {
     "name": "stdout",
     "output_type": "stream",
     "text": [
      "\n",
      "--------------------------------------------\n",
      "                      (1)             (2)   \n",
      "                  Model 1         Model 2   \n",
      "                     b/se            b/se   \n",
      "--------------------------------------------\n",
      "State Gran~e        0.001*         -0.000   \n",
      "                  (0.000)         (0.001)   \n",
      "2.collegea~e       -6.185*        -12.228   \n",
      "                  (2.726)         (7.214)   \n",
      "3.collegea~e       -9.439*        -19.293*  \n",
      "                  (3.458)         (7.723)   \n",
      "2.collegea~n                        0.001   \n",
      "                                  (0.001)   \n",
      "3.collegea~n                        0.004   \n",
      "                                  (0.002)   \n",
      "--------------------------------------------\n",
      "R-Squared           0.437           0.490   \n",
      "N                  33.000          33.000   \n",
      "--------------------------------------------\n"
     ]
    }
   ],
   "source": [
    "esttab, stats(r2 N, labels(\"R-Squared\" \"N\")) cells(b(star fmt(3)) se(fmt(3) par)) /// \n",
    "nobase mlabels (\"Model 1\" \"Model 2\") starlevels(* .05 ** .01 *** .001) ///\n",
    "coeflabels (y_lo_inc_rpy \"Low Income Repayment\" sgrnt_low_inc \"State Grant Low Income\" acceptrate \"College Acceptance Rate\") noconstant"
   ]
  },
  {
   "cell_type": "code",
   "execution_count": 20,
   "metadata": {
    "tags": []
   },
   "outputs": [],
   "source": [
    "*The esttab gives almost the same information mentioned in the previous code line, however the the numbers are rounded and the table's more condensed.\n",
    "*The only significant number belongs to Model 2 (-19.293).\n",
    "\n",
    "*QUESTION: what about -6.185* and -9.439* in Model 1? Those are the same numbers as mentioned in the regression table and the numbers beneath them are the rounded up numbers."
   ]
  },
  {
   "cell_type": "code",
   "execution_count": 13,
   "metadata": {
    "tags": []
   },
   "outputs": [
    {
     "name": "stdout",
     "output_type": "stream",
     "text": [
      "graph size was (5.5in, 4in), is now (11, 4in).\n"
     ]
    }
   ],
   "source": [
    "%set graph_width = 11"
   ]
  },
  {
   "cell_type": "code",
   "execution_count": 14,
   "metadata": {
    "tags": []
   },
   "outputs": [
    {
     "name": "stdout",
     "output_type": "stream",
     "text": [
      "graph size was (11, 4in), is now (11, 8).\n"
     ]
    }
   ],
   "source": [
    "%set graph_height = 8"
   ]
  },
  {
   "cell_type": "code",
   "execution_count": 15,
   "metadata": {
    "tags": []
   },
   "outputs": [
    {
     "name": "stdout",
     "output_type": "stream",
     "text": [
      "\n",
      "    Variable |        Obs        Mean    Std. dev.       Min        Max\n",
      "-------------+---------------------------------------------------------\n",
      "sgrnt_low_~c |         33    5975.703    5837.969   438.6654   31988.31\n"
     ]
    }
   ],
   "source": [
    "sum sgrnt_low_inc"
   ]
  },
  {
   "cell_type": "code",
   "execution_count": 16,
   "metadata": {
    "tags": []
   },
   "outputs": [
    {
     "name": "stdout",
     "output_type": "stream",
     "text": [
      "\n",
      "Variables that uniquely identify margins: sgrnt_low_inc collegeacceptance\n"
     ]
    },
    {
     "data": {
      "image/png": "[encoded data removed]",
      "text/plain": [
       "<IPython.core.display.Image object>"
      ]
     },
     "metadata": {},
     "output_type": "display_data"
    }
   ],
   "source": [
    "*Plotting margins for nominal - interval-ratio interaction terms\n",
    "\n",
    "quietly reg y_lo_inc_rpy c.sgrnt_low_inc##i.collegeacceptance\n",
    "\n",
    "quietly margins collegeacceptance, at(sgrnt_low_inc=(0(1000)31989)) atmeans\n",
    "marginsplot, noci legend(on) xtitle(\"Student Grant\") ///\n",
    "ytitle(\"Low Income Students Loan Repayment\") legend(rows(1) position(1) ring(0)) scheme(538w)"
   ]
  },
  {
   "cell_type": "markdown",
   "metadata": {},
   "source": [
    "## 3. Interpret your results [1 pt]\n",
    "\n",
    "Write a couple sentences answering each of the following questions:"
   ]
  },
  {
   "cell_type": "markdown",
   "metadata": {},
   "source": [
    "    A. Do the results support or contradict each of your hypotheses?\n",
    "    \n",
    "    The results support both of my hypothesis. Low income loan repayment portions do decrease if students receive more state grants, and a school's acceptance rate\n",
    "    does interact with state grant aids.\n",
    "    \n",
    "    Both schools within 26-75% and 76-100% acceptance rate categories show high chances of low income students paying off their student loans upon the condition \n",
    "    that the grants they receive increase. The only difference is that this relationship is much stronger (as we see the green line being much more steep) \n",
    "    for colleges with 76-100% acceptance rate. On the contrary, according to the blue line, the chances of low income students who are in schools with the acceptance rate of 0-25% are very unlikely to \n",
    "    pay off their student loans since the blue line shows a negative realtiosnhip downhill.\n",
    "    \n",
    "    B. Why do the regression coefficients support or contradict your hypotheses?\n",
    "    \n",
    "    Here are the co-efficients that my second regression table showed, all of which are in negative directions:\n",
    "     -.0002344 sgrnt_low_~c \n",
    "     -12.22826 26-75% (red)\n",
    "     -19.29332 76-100% (green)\n",
    "     \n",
    "     QUESTION: I tried to frame my understanding of the visualization above in part A of this question. However, I can't understand what the negativeness of those three co-efficients mean.\n",
    "     Are those signifying negative relationships? because the green and red lines seem to have a positive realtionship and only the blue one indicates a negative realtionships. What do those negative\n",
    "     coefficients mean?\n",
    "    \n",
    "    C. Why do your regression adjusted estimates from margins for nominal categories or given interval-ratio values support or contradict your hypotheses?\n",
    "    \n",
    "    My regression adjusted estimates from margins for my nominal independent variable (acceptance rate) and interval ration independent variable (grant aid)\n",
    "    support my hypothesis which indicates the existing inequity in the higher education system. Students who are coming from low-income families need to work \n",
    "    really hard to get into highly selective schools that have very low acceptance rates. Even though low income students may receive more grant aids in such schools,\n",
    "    their loan repayment portions will be very high, and they will have to work much harder and longer than students coming from rich families to pay back their loans,\n",
    "    a process that prevents low-income students from timely graduation or sometimes results in them dropping out of school. The statistics in this assignment show how\n",
    "    the higher education system works more in favor of high-income students and also how much higher school acceptance rates and more grant aids can help low-income\n",
    "    students acquire proper and affordable education.\n",
    "    "
   ]
  },
  {
   "cell_type": "code",
   "execution_count": null,
   "metadata": {},
   "outputs": [],
   "source": []
  }
 ],
 "metadata": {
  "kernelspec": {
   "display_name": "Stata (nbstata)",
   "language": "stata",
   "name": "nbstata"
  },
  "language_info": {
   "file_extension": ".do",
   "mimetype": "text/x-stata",
   "name": "stata",
   "version": "17"
  }
 },
 "nbformat": 4,
 "nbformat_minor": 4
}
