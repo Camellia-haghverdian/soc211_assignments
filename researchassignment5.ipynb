{
 "cells": [
  {
   "cell_type": "markdown",
   "metadata": {},
   "source": [
    "# Research Assignment 5 \n",
    "\n",
    "\n",
    "Camellia Haghverdian\n",
    "\n",
    "Factors Predicting Acceptance Rate\n",
    "\n",
    "04/16/2024"
   ]
  },
  {
   "cell_type": "code",
   "execution_count": 1,
   "metadata": {
    "tags": []
   },
   "outputs": [
    {
     "data": {
      "text/html": [
       "<style>div.jp-Notebook .datagrid-container {min-height: 448px; }</style>"
      ],
      "text/plain": [
       "<IPython.core.display.HTML object>"
      ]
     },
     "metadata": {},
     "output_type": "display_data"
    },
    {
     "name": "stdout",
     "output_type": "stream",
     "text": [
      "(19 vars, 33 obs)\n"
     ]
    }
   ],
   "source": [
    "// Setting up Data\n",
    "\n",
    "insheet using \"/Users/camellia/Documents/Stats 2/soc211_assignments/week10/loanrepay2013_highestresearch.csv\", clear"
   ]
  },
  {
   "cell_type": "code",
   "execution_count": 2,
   "metadata": {
    "tags": []
   },
   "outputs": [],
   "source": [
    "// Keeping only variables I need\n",
    "\n",
    "keep acceptrate y_lo_inc_rpy sgrnt_low_~c "
   ]
  },
  {
   "cell_type": "code",
   "execution_count": 3,
   "metadata": {
    "collapsed": true,
    "jupyter": {
     "outputs_hidden": true
    },
    "tags": []
   },
   "outputs": [
    {
     "name": "stdout",
     "output_type": "stream",
     "text": [
      "\n",
      " acceptrate |      Freq.     Percent        Cum.\n",
      "------------+-----------------------------------\n",
      "    .214635 |          1        3.03        3.03\n",
      "    .228407 |          1        3.03        6.06\n",
      "   .3206216 |          1        3.03        9.09\n",
      "   .3395534 |          1        3.03       12.12\n",
      "   .3987971 |          1        3.03       15.15\n",
      "   .3991674 |          1        3.03       18.18\n",
      "   .4189757 |          1        3.03       21.21\n",
      "   .4269711 |          1        3.03       24.24\n",
      "   .4531918 |          1        3.03       27.27\n",
      "   .4872242 |          1        3.03       30.30\n",
      "   .4924802 |          1        3.03       33.33\n",
      "   .4995829 |          1        3.03       36.36\n",
      "   .5001475 |          1        3.03       39.39\n",
      "   .5190052 |          1        3.03       42.42\n",
      "   .5257108 |          1        3.03       45.45\n",
      "   .5543631 |          1        3.03       48.48\n",
      "   .5946137 |          1        3.03       51.52\n",
      "   .6090856 |          1        3.03       54.55\n",
      "   .6095234 |          1        3.03       57.58\n",
      "   .6147988 |          1        3.03       60.61\n",
      "   .6488514 |          1        3.03       63.64\n",
      "   .6544499 |          1        3.03       66.67\n",
      "   .6691192 |          1        3.03       69.70\n",
      "    .724237 |          1        3.03       72.73\n",
      "   .7262731 |          1        3.03       75.76\n",
      "   .7314519 |          1        3.03       78.79\n",
      "   .7800129 |          1        3.03       81.82\n",
      "   .8300821 |          1        3.03       84.85\n",
      "   .8302125 |          1        3.03       87.88\n",
      "   .8404499 |          1        3.03       90.91\n",
      "    .852661 |          1        3.03       93.94\n",
      "   .8728185 |          1        3.03       96.97\n",
      "    .917538 |          1        3.03      100.00\n",
      "------------+-----------------------------------\n",
      "      Total |         33      100.00\n",
      "\n",
      " acceptrate |      Freq.     Percent        Cum.\n",
      "------------+-----------------------------------\n",
      "    .214635 |          1        3.03        3.03\n",
      "    .228407 |          1        3.03        6.06\n",
      "   .3206216 |          1        3.03        9.09\n",
      "   .3395534 |          1        3.03       12.12\n",
      "   .3987971 |          1        3.03       15.15\n",
      "   .3991674 |          1        3.03       18.18\n",
      "   .4189757 |          1        3.03       21.21\n",
      "   .4269711 |          1        3.03       24.24\n",
      "   .4531918 |          1        3.03       27.27\n",
      "   .4872242 |          1        3.03       30.30\n",
      "   .4924802 |          1        3.03       33.33\n",
      "   .4995829 |          1        3.03       36.36\n",
      "   .5001475 |          1        3.03       39.39\n",
      "   .5190052 |          1        3.03       42.42\n",
      "   .5257108 |          1        3.03       45.45\n",
      "   .5543631 |          1        3.03       48.48\n",
      "   .5946137 |          1        3.03       51.52\n",
      "   .6090856 |          1        3.03       54.55\n",
      "   .6095234 |          1        3.03       57.58\n",
      "   .6147988 |          1        3.03       60.61\n",
      "   .6488514 |          1        3.03       63.64\n",
      "   .6544499 |          1        3.03       66.67\n",
      "   .6691192 |          1        3.03       69.70\n",
      "    .724237 |          1        3.03       72.73\n",
      "   .7262731 |          1        3.03       75.76\n",
      "   .7314519 |          1        3.03       78.79\n",
      "   .7800129 |          1        3.03       81.82\n",
      "   .8300821 |          1        3.03       84.85\n",
      "   .8302125 |          1        3.03       87.88\n",
      "   .8404499 |          1        3.03       90.91\n",
      "    .852661 |          1        3.03       93.94\n",
      "   .8728185 |          1        3.03       96.97\n",
      "    .917538 |          1        3.03      100.00\n",
      "------------+-----------------------------------\n",
      "      Total |         33      100.00\n",
      "(21 real changes made)\n",
      "(12 real changes made)\n"
     ]
    }
   ],
   "source": [
    "// Turning dependent variable into dummy/dichotomous variable\n",
    "\n",
    "tab acceptrate\n",
    "tab acceptrate, nol\n",
    "\n",
    "gen majority=acceptrate\n",
    "replace majority=1 if acceptrate>=.50\n",
    "replace majority=0 if acceptrate<=.50"
   ]
  },
  {
   "cell_type": "code",
   "execution_count": 4,
   "metadata": {
    "tags": []
   },
   "outputs": [
    {
     "name": "stdout",
     "output_type": "stream",
     "text": [
      "\n",
      "   majority |      Freq.     Percent        Cum.\n",
      "------------+-----------------------------------\n",
      "          0 |         12       36.36       36.36\n",
      "          1 |         21       63.64      100.00\n",
      "------------+-----------------------------------\n",
      "      Total |         33      100.00\n"
     ]
    }
   ],
   "source": [
    "tab majority"
   ]
  },
  {
   "cell_type": "code",
   "execution_count": 7,
   "metadata": {
    "tags": []
   },
   "outputs": [
    {
     "name": "stdout",
     "output_type": "stream",
     "text": [
      "\u001b[31mlabel majority already defined\n",
      "r(110);\u001b[0m\n"
     ]
    }
   ],
   "source": [
    "// Labeling dependent variable\n",
    "\n",
    "label variable majority \"Less Prestigious Schools\"\n",
    "label define majority 0 \"Accepts less than 50% of applicants\" 1 \"Accepts more than 50% of applicants\"\n",
    "label values majority majority"
   ]
  },
  {
   "cell_type": "code",
   "execution_count": 6,
   "metadata": {
    "tags": []
   },
   "outputs": [
    {
     "name": "stdout",
     "output_type": "stream",
     "text": [
      "\n",
      "Y_lo_inc_rp |\n",
      "          y |      Freq.     Percent        Cum.\n",
      "------------+-----------------------------------\n",
      "    47.9304 |          1        3.03        3.03\n",
      "    50.4668 |          1        3.03        6.06\n",
      "     55.709 |          1        3.03        9.09\n",
      "    56.1845 |          1        3.03       12.12\n",
      "    57.0114 |          1        3.03       15.15\n",
      "    57.2512 |          1        3.03       18.18\n",
      "    57.5044 |          1        3.03       21.21\n",
      "    58.3367 |          1        3.03       24.24\n",
      "    60.4167 |          1        3.03       27.27\n",
      "    60.8015 |          1        3.03       30.30\n",
      "    61.0008 |          1        3.03       33.33\n",
      "    62.6499 |          1        3.03       36.36\n",
      "    63.0356 |          1        3.03       39.39\n",
      "    63.6468 |          1        3.03       42.42\n",
      "    64.5707 |          1        3.03       45.45\n",
      "    66.5521 |          1        3.03       48.48\n",
      "    67.2012 |          1        3.03       51.52\n",
      "    68.2734 |          1        3.03       54.55\n",
      "    68.5154 |          1        3.03       57.58\n",
      "    69.1592 |          1        3.03       60.61\n",
      "    70.7888 |          1        3.03       63.64\n",
      "    71.2029 |          1        3.03       66.67\n",
      "    72.7894 |          1        3.03       69.70\n",
      "    72.9519 |          1        3.03       72.73\n",
      "    73.6202 |          1        3.03       75.76\n",
      "    74.3373 |          1        3.03       78.79\n",
      "    74.6398 |          1        3.03       81.82\n",
      "     75.063 |          1        3.03       84.85\n",
      "    75.5474 |          1        3.03       87.88\n",
      "    75.6098 |          1        3.03       90.91\n",
      "    75.8465 |          1        3.03       93.94\n",
      "    78.2464 |          1        3.03       96.97\n",
      "    78.4337 |          1        3.03      100.00\n",
      "------------+-----------------------------------\n",
      "      Total |         33      100.00\n",
      "\n",
      "sgrnt_low_i |\n",
      "         nc |      Freq.     Percent        Cum.\n",
      "------------+-----------------------------------\n",
      "   438.6654 |          1        3.03        3.03\n",
      "   602.3331 |          1        3.03        6.06\n",
      "   656.8206 |          1        3.03        9.09\n",
      "   714.6354 |          1        3.03       12.12\n",
      "   798.1365 |          1        3.03       15.15\n",
      "   944.6102 |          1        3.03       18.18\n",
      "   994.1364 |          1        3.03       21.21\n",
      "   1151.217 |          1        3.03       24.24\n",
      "   1529.607 |          1        3.03       27.27\n",
      "   2234.665 |          1        3.03       30.30\n",
      "   2621.403 |          1        3.03       33.33\n",
      "   4000.597 |          1        3.03       36.36\n",
      "   4093.396 |          1        3.03       39.39\n",
      "   4674.777 |          1        3.03       42.42\n",
      "   4739.999 |          1        3.03       45.45\n",
      "   4782.049 |          1        3.03       48.48\n",
      "   5026.689 |          1        3.03       51.52\n",
      "   5272.785 |          1        3.03       54.55\n",
      "   5683.487 |          1        3.03       57.58\n",
      "   6240.334 |          1        3.03       60.61\n",
      "   6585.675 |          1        3.03       63.64\n",
      "   6656.691 |          1        3.03       66.67\n",
      "   7226.602 |          1        3.03       69.70\n",
      "    7626.35 |          1        3.03       72.73\n",
      "   8263.273 |          1        3.03       75.76\n",
      "   9523.463 |          1        3.03       78.79\n",
      "   9699.962 |          1        3.03       81.82\n",
      "   9742.227 |          1        3.03       84.85\n",
      "   10214.98 |          1        3.03       87.88\n",
      "   10553.27 |          1        3.03       90.91\n",
      "   10871.33 |          1        3.03       93.94\n",
      "   11045.71 |          1        3.03       96.97\n",
      "   31988.31 |          1        3.03      100.00\n",
      "------------+-----------------------------------\n",
      "      Total |         33      100.00\n"
     ]
    }
   ],
   "source": [
    "// Taking a quick look at my independent variables\n",
    "\n",
    "tab y_lo_inc_rpy\n",
    "tab sgrnt_low_~c "
   ]
  },
  {
   "cell_type": "markdown",
   "metadata": {
    "tags": []
   },
   "source": [
    "### 1. Develop hypotheses that approach a nominal variable in your dataset as a dependent variable (DV). [1 pt]\n",
    "\n",
    "* If your nominal variable has more than two categorical variables, such as political party affiliation categories of -- Democrat, Democratic Socialist, Green, Independent, or Republican -- develop hypotheses that treat being or not being in at least one of the categories as a dichotomous binomial dependent variable (DV).\n",
    "\n",
    "* Even if you are not interested in any categorical outcomes for your research project, still develop an hypothesis for at least one nominal variable in your data as a dependent variable. Thinking about potential influences on that variable could help you see if there are intervening relationships or omitted variable biases in your primary outcome of interest.\n",
    "\n",
    "Do the following when you write your hypothesis:\n",
    "\n",
    "    A. Write a separate hypothesis for each dependent variable (DV) you want to analyze.\n",
    "    \n",
    "    B. For each dependent variable (DV) state the predicted direction of association between your dependent variable DV and independent variables (IVs) in your model. You can predict no relationship if you do not expect a relationship.\n",
    "    \n",
    "    C. Write a couple sentences about the theoretical reasons (prior knowledge / research) for each of your predictions"
   ]
  },
  {
   "cell_type": "code",
   "execution_count": 8,
   "metadata": {
    "tags": []
   },
   "outputs": [],
   "source": [
    "*A. I hypothesize that the provision of more state grant aids and higher rates of loan repayment result \n",
    "// in higher rates of acceptance in universities. My dependent variable is acceptance rate (acceptrate), and my independent variables are\n",
    "// loan repayment (y_lo_inc_rpy) and state grant aid for low-income students (sgrnt_low_~c).\n",
    "\n",
    "*B and C (my theory and intutition included :)). \n",
    "    *1) I predict that the relationship between state grant and acceptance rate is positive, meaning with every increase in the percentage\n",
    "    // of state grants, there will be an increase in the acceptance rate of schools. However, whether or not those schools will be more prestigious\n",
    "    // or less prestigious is hard to tell. My assumption is that any school receiving additional state grants would become more prestigious\n",
    "    // as time goes by.\n",
    "\n",
    "    *2) In addition, the relationship between loan repayment and acceptance rate is positive, meaning with every increase in the percentage\n",
    "    // of loan repayment, there will be an increase in the acceptance rate of schools because more low-income students would be interested in\n",
    "    // attending such universities. However, if more low-income students attend a particular university, there is a high chance that that university\n",
    "    // might lose its prestige over time. "
   ]
  },
  {
   "cell_type": "markdown",
   "metadata": {},
   "source": [
    "### 2. Test your hypotheses [3 pts]\n",
    "\n",
    "    A. Create a frequency table for your dependent variable (DV).\n",
    "\n",
    "    B. Estimate an OLS model regressing your dichotomous dependent variable (DV) on your hypothesized independent variables (IVs) and store the results.\n",
    "    \n",
    "    C. Estimate an MLE logistic model regressing your dichotomous dependent variable (DV) on your hypothesized independent variables (IVs) and store the results.\n",
    "    \n",
    "    D. Use esttab to output the coefficients for your OLS and MLE logistic models with html formatting within your Jupyter Notebook.\n",
    "    \n",
    "    E. Use esttab to reoutput your coefficients as odd ratios."
   ]
  },
  {
   "cell_type": "code",
   "execution_count": 7,
   "metadata": {
    "tags": []
   },
   "outputs": [
    {
     "name": "stdout",
     "output_type": "stream",
     "text": [
      "\n",
      "           Less Prestigious Schools |      Freq.     Percent        Cum.\n",
      "------------------------------------+-----------------------------------\n",
      "Accepts less than 50% of applicants |         12       36.36       36.36\n",
      "Accepts more than 50% of applicants |         21       63.64      100.00\n",
      "------------------------------------+-----------------------------------\n",
      "                              Total |         33      100.00\n"
     ]
    }
   ],
   "source": [
    "*** PART A: Creating frequency table for dependent variable\n",
    "\n",
    "tab majority"
   ]
  },
  {
   "cell_type": "code",
   "execution_count": 8,
   "metadata": {},
   "outputs": [],
   "source": [
    "// Clearing stored estimates\n",
    "\n",
    "est clear"
   ]
  },
  {
   "cell_type": "code",
   "execution_count": 9,
   "metadata": {},
   "outputs": [
    {
     "name": "stdout",
     "output_type": "stream",
     "text": [
      "\n",
      "Linear regression                               Number of obs     =         33\n",
      "                                                F(2, 30)          =       6.94\n",
      "                                                Prob > F          =     0.0033\n",
      "                                                R-squared         =     0.2634\n",
      "                                                Root MSE          =     .43302\n",
      "\n",
      "------------------------------------------------------------------------------\n",
      "             |               Robust\n",
      "    majority | Coefficient  std. err.      t    P>|t|     [95% conf. interval]\n",
      "-------------+----------------------------------------------------------------\n",
      "y_lo_inc_rpy |  -.0329642   .0106397    -3.10   0.004    -.0546934   -.0112349\n",
      "sgrnt_low_~c |   8.80e-06   .0000174     0.51   0.617    -.0000268    .0000444\n",
      "       _cons |   2.766701   .6065554     4.56   0.000      1.52795    4.005453\n",
      "------------------------------------------------------------------------------\n",
      "(est1 stored)\n"
     ]
    }
   ],
   "source": [
    "*** PART B: Estimating an OLS model and storing results\n",
    "// Use \"ro\", short for robust, to get robust standard errors\n",
    "\n",
    "eststo: reg majority y_lo_inc_rpy sgrnt_low_~c, ro"
   ]
  },
  {
   "cell_type": "code",
   "execution_count": 11,
   "metadata": {},
   "outputs": [
    {
     "name": "stdout",
     "output_type": "stream",
     "text": [
      "\n",
      "Iteration 0:  Log pseudolikelihood = -21.630899  \n",
      "Iteration 1:  Log pseudolikelihood =  -16.78412  \n",
      "Iteration 2:  Log pseudolikelihood = -16.546006  \n",
      "Iteration 3:  Log pseudolikelihood = -16.545214  \n",
      "Iteration 4:  Log pseudolikelihood = -16.545214  \n",
      "\n",
      "Logistic regression                                     Number of obs =     33\n",
      "                                                        Wald chi2(2)  =   8.42\n",
      "                                                        Prob > chi2   = 0.0149\n",
      "Log pseudolikelihood = -16.545214                       Pseudo R2     = 0.2351\n",
      "\n",
      "------------------------------------------------------------------------------\n",
      "             |               Robust\n",
      "    majority | Coefficient  std. err.      z    P>|z|     [95% conf. interval]\n",
      "-------------+----------------------------------------------------------------\n",
      "y_lo_inc_rpy |  -.1930458   .0759509    -2.54   0.011    -.3419069   -.0441848\n",
      "sgrnt_low_~c |   .0000452   .0000789     0.57   0.566    -.0001093    .0001998\n",
      "       _cons |   13.36368   4.820398     2.77   0.006     3.915875    22.81149\n",
      "------------------------------------------------------------------------------\n",
      "(est2 stored)\n",
      "\n",
      "Conditional marginal effects                                Number of obs = 33\n",
      "Model VCE: Robust\n",
      "\n",
      "Expression: Pr(majority), predict()\n",
      "dy/dx wrt:  y_lo_inc_rpy sgrnt_low_inc\n",
      "At: y_lo_inc_rpy  = 66.22106 (mean)\n",
      "    sgrnt_low_inc = 5975.703 (mean)\n",
      "\n",
      "------------------------------------------------------------------------------\n",
      "             |            Delta-method\n",
      "             |      dy/dx   std. err.      z    P>|z|     [95% conf. interval]\n",
      "-------------+----------------------------------------------------------------\n",
      "y_lo_inc_rpy |  -.0404915   .0162878    -2.49   0.013     -.072415    -.008568\n",
      "sgrnt_low_~c |   9.49e-06   .0000163     0.58   0.561    -.0000225    .0000415\n",
      "------------------------------------------------------------------------------\n",
      "(est3 stored)\n"
     ]
    }
   ],
   "source": [
    "*** PART C: Estimating an MLE logistic model and storing results\n",
    "// Use \"ro\" again to get robust standard errors\n",
    "\n",
    "eststo: logit majority y_lo_inc_rpy sgrnt_low_~c, ro\n",
    "eststo: margins, dydx(*) post atmeans"
   ]
  },
  {
   "cell_type": "code",
   "execution_count": 16,
   "metadata": {},
   "outputs": [
    {
     "name": "stdout",
     "output_type": "stream",
     "text": [
      "\n",
      "Unexpontiated Coefficients\n",
      "---------------------------------------------------------------\n",
      "                      (1)              (2)              (3)    \n",
      "                      OLS     MLE / logi~c     MLE margin~s    \n",
      "---------------------------------------------------------------\n",
      "main                                                           \n",
      "y_lo_inc_rpy        -0.03 **         -0.19 *          -0.04 *  \n",
      "                   (0.01)           (0.08)           (0.02)    \n",
      "sgrnt_low_~c         0.00             0.00             0.00    \n",
      "                   (0.00)           (0.00)           (0.00)    \n",
      "_cons                2.77 ***        13.36 **                  \n",
      "                   (0.61)           (4.82)                     \n",
      "---------------------------------------------------------------\n",
      "N                      33               33               33    \n",
      "---------------------------------------------------------------\n",
      "^ p<.1, * p<.05, ** p<.01, *** p<.001\n"
     ]
    }
   ],
   "source": [
    "*** PART D: Outputting Table Results\n",
    "\n",
    "esttab ///\n",
    ", cells(b(star fmt(2)) se(fmt(2) par)) stardetach  ///\n",
    "\tlegend starlevels(^ .1 * .05 ** .01 *** .001) ///\n",
    "mlabels(\"OLS\" \"MLE / logistic\" \"MLE marginal effects\") title(\"Unexpontiated Coefficients\") ///\n",
    "collabels(none)"
   ]
  },
  {
   "cell_type": "code",
   "execution_count": 17,
   "metadata": {},
   "outputs": [
    {
     "name": "stdout",
     "output_type": "stream",
     "text": [
      "\n",
      "Odds Ratio\n",
      "---------------------------------------------------------------\n",
      "                      (1)              (2)              (3)    \n",
      "                      OLS     MLE / logi~c     MLE margin~s    \n",
      "---------------------------------------------------------------\n",
      "main                                                           \n",
      "y_lo_inc_rpy         0.97 **          0.82 *           0.96 *  \n",
      "                   (0.01)           (0.06)           (0.02)    \n",
      "sgrnt_low_~c         1.00             1.00             1.00    \n",
      "                   (0.00)           (0.00)           (0.00)    \n",
      "---------------------------------------------------------------\n",
      "N                      33               33               33    \n",
      "---------------------------------------------------------------\n",
      "Exponentiated coefficients\n",
      "^ p<.1, * p<.05, ** p<.01, *** p<.001\n"
     ]
    }
   ],
   "source": [
    "*** PART E: Outputting Table Results with Odds Ratio\n",
    "// Do this by using \"eform\"\n",
    "\n",
    "esttab ///\n",
    ", cells(b(star fmt(2)) se(fmt(2) par)) stardetach  ///\n",
    "\tlegend starlevels(^ .1 * .05 ** .01 *** .001) ///\n",
    "mlabels(\"OLS\" \"MLE / logistic\" \"MLE marginal effects\") title(\"Odds Ratio\") ///\n",
    "collabels(none) eform"
   ]
  },
  {
   "cell_type": "markdown",
   "metadata": {},
   "source": [
    "### 3. Interpret your results [1 pt]\n",
    "\n",
    "Write a couple sentences answering each of the following questions:\n",
    "\n",
    "    A. How would you interpret the relationship between your dependent variable(s) (DVs) and independent variables (IVs) based on the odds ratios for you MLE logistic model?\n",
    "\n",
    "    B. Do the overall estimates support or contradict your hypotheses? Why?\n",
    "    \n",
    "    C. Is there anything suprising in your model estimates? Why?\n",
    "    \n",
    "    D. How do the OLS coefficients and their standard errors compare to the MLE estimates? Are the coefficients and standard errors larger or smaller?"
   ]
  },
  {
   "cell_type": "markdown",
   "metadata": {},
   "source": [
    "QUESTION ????\n",
    "*A: Looking at the odds ratio table and the marginal effects column with regards to the MLE model for the loan repayment, I can see that the results are statistically significant. The odds ratio for loan repayment is 0.96 (co-standard error 0.02), the percentage of which would be -0.04%. However, the odds ratio for state grant aids is 1.00 (co-standard error 0.00), 0%, which is an indicator that state grant aid (ind-v) has either no effect or a very small/negligible effect on acceptance rate (d-v).\n",
    "\n",
    "*B: My hypothesis: I hypothesize that the provision of more state grant aids and higher rates of loan repayment result \n",
    "// in higher rates of acceptance in universities. My dependent variable is acceptance rate (acceptrate), and my independent variables are\n",
    "// loan repayment (y_lo_inc_rpy) and state grant aid for low-income students (sgrnt_low_~c).\n",
    "\n",
    "According to the results, with every increase in the loan repayment percentage, acceptance rate decreases, and therefore, (I think?) my hypothesis is rejected.\n",
    "\n",
    "*C: I assumed there was going to be an increase in acceptance rates with the increase of loan repayment and state grants aids, but actually the odds ratio table shows that there is a decrease in acceptance rates in relation with loan repayment and the results on state grants showed negligible significance.\n",
    "\n",
    "*D: I can see that the OLS model has a lower standard error of 0.01 compared to the MLE estimates that has the standard error of 0.02. Both standard errors for the OLS and MLE models for state grants are 0.00."
   ]
  }
 ],
 "metadata": {
  "kernelspec": {
   "display_name": "Stata (nbstata)",
   "language": "stata",
   "name": "nbstata"
  },
  "language_info": {
   "file_extension": ".do",
   "mimetype": "text/x-stata",
   "name": "stata",
   "version": "17"
  }
 },
 "nbformat": 4,
 "nbformat_minor": 4
}
