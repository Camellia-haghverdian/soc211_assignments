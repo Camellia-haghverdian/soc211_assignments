{
 "cells": [
  {
   "cell_type": "markdown",
   "metadata": {},
   "source": [
    "# Problem set 3\n",
    "\n",
    "Camellia Haghverdian\n",
    "\n",
    "Loan Repayments and State Grants\n",
    "\n",
    "03/06/2024"
   ]
  },
  {
   "cell_type": "markdown",
   "metadata": {},
   "source": [
    "## 1. Develop hypotheses about two non-linear relationships [1 pt]\n",
    "\n",
    "You can use the GSS data, Student aid data, or your own data. Develop at least 2 hypotheses about non-linear relationships in your dataset of choice that do the following:\n",
    "\n",
    "    A. Use the form: The DV will change positive/negatively if the IV changes positively/negatively/categorically (specify what the variables measure and what the categories are if you have a categorical hypothesis)\n",
    "    \n",
    "    H1: The amount of low income loan repayment (DV) changes negatively if the amount of state grant to low-income studens (IV) changes positively. In other words, if the amount of state grant to low-income studens (IV) increases, the amount of loan low income (DV) students should repay decreases. \n",
    "\n",
    "    B. State if you expect each hypothesized relationship will be linear or take one of the 5 non-linear forms (1. nominal, 2. sequential dummies, 3. splines, 4. quadratic, 5. logarithmic). You tell us at least two different non-linear forms that you think your hypothesized relationships will or will not take.\n",
    "    \n",
    "    H1: I think the hypothesis mentioned above will take the form of a spline; specifically, a linear and piecewise cubic spline.\n",
    "    \n",
    "\n",
    "    C. State your explanation why (theory) you make the predictions in A. and B.\n",
    "    \n",
    "    - Because the more grant the state provides, the overall amount of loan a low income student must pay back will be less.\n",
    "\n",
    "    D. Tell us the source of your data and describe its sample.\n",
    "    \n",
    "    - Source: Loan Repayment data in 2013\n",
    "    - Sample: Students in various colleges and universities in the US"
   ]
  },
  {
   "cell_type": "markdown",
   "metadata": {},
   "source": [
    "## 2. Conduct statistical tests for your hypothesized relationship: [3 pts]\n",
    "\n",
    "* Estimate at least 2 different types of non-linear models that test your hypotheses.\n",
    "\n",
    "* Use appropriate regression and graphical representations to represent each model.\n",
    "\n",
    "* Use esttab to compare between types of non-linear and linear models"
   ]
  },
  {
   "cell_type": "code",
   "execution_count": 1,
   "metadata": {
    "tags": []
   },
   "outputs": [
    {
     "data": {
      "text/html": [
       "<style>div.jp-Notebook .datagrid-container {min-height: 448px; }</style>"
      ],
      "text/plain": [
       "<IPython.core.display.HTML object>"
      ]
     },
     "metadata": {},
     "output_type": "display_data"
    }
   ],
   "source": [
    "qui log using week7_log.log, replace"
   ]
  },
  {
   "cell_type": "code",
   "execution_count": 2,
   "metadata": {
    "tags": []
   },
   "outputs": [
    {
     "name": "stdout",
     "output_type": "stream",
     "text": [
      "(19 vars, 33 obs)\n"
     ]
    }
   ],
   "source": [
    "insheet using \"/Users/camellia/Documents/Stats 2/soc211_assignments/Week 7/loanrepay2013_highestresearch.csv\", clear"
   ]
  },
  {
   "cell_type": "code",
   "execution_count": 3,
   "metadata": {
    "tags": []
   },
   "outputs": [
    {
     "name": "stdout",
     "output_type": "stream",
     "text": [
      "opeid         instnm        all_under     sgrnt_low_~c  xstring\n",
      "acceptrate    stabbr        netprice4l~e  igrnt_low_~c  ystring\n",
      "y_lo_inc_rpy  hgroup        spend_ugd_~w  sandigrnt_~c  markerlabel\n",
      "lo_inc_deb~n  upgrntn       x_aid_byst~r  instatetui~n\n"
     ]
    }
   ],
   "source": [
    "ds"
   ]
  },
  {
   "cell_type": "code",
   "execution_count": 4,
   "metadata": {
    "tags": []
   },
   "outputs": [
    {
     "name": "stdout",
     "output_type": "stream",
     "text": [
      "\n",
      "-------------------------------------------------------------------------------\n",
      "y_lo_inc_rpy                                                       Y_lo_inc_rpy\n",
      "-------------------------------------------------------------------------------\n",
      "\n",
      "                  Type: Numeric (float)\n",
      "\n",
      "                 Range: [47.9304,78.4337]             Units: .0001\n",
      "         Unique values: 33                        Missing .: 0/33\n",
      "\n",
      "                  Mean: 66.2211\n",
      "             Std. dev.: 8.30001\n",
      "\n",
      "           Percentiles:     10%       25%       50%       75%       90%\n",
      "                        56.1845   60.4167   67.2012   73.6202   75.6098\n",
      "\n",
      "-------------------------------------------------------------------------------\n",
      "sgrnt_low_inc                                                       (unlabeled)\n",
      "-------------------------------------------------------------------------------\n",
      "\n",
      "                  Type: Numeric (float)\n",
      "\n",
      "                 Range: [438.66541,31988.313]         Units: .00001\n",
      "         Unique values: 33                        Missing .: 0/33\n",
      "\n",
      "                  Mean:  5975.7\n",
      "             Std. dev.: 5837.97\n",
      "\n",
      "           Percentiles:     10%       25%       50%       75%       90%\n",
      "                        714.635   1529.61   5026.69   8263.27   10553.3\n"
     ]
    }
   ],
   "source": [
    "codebook y_lo_inc_rpy sgrnt_low_~c "
   ]
  },
  {
   "cell_type": "code",
   "execution_count": 5,
   "metadata": {
    "tags": []
   },
   "outputs": [
    {
     "name": "stdout",
     "output_type": "stream",
     "text": [
      "\n",
      "-------------------------------------------------------------------------------\n",
      "y_lo_inc_rpy                                             Loan Repayment Percent\n",
      "-------------------------------------------------------------------------------\n",
      "\n",
      "                  Type: Numeric (float)\n",
      "\n",
      "                 Range: [47.9304,78.4337]             Units: .0001\n",
      "         Unique values: 33                        Missing .: 0/33\n",
      "\n",
      "                  Mean: 66.2211\n",
      "             Std. dev.: 8.30001\n",
      "\n",
      "           Percentiles:     10%       25%       50%       75%       90%\n",
      "                        56.1845   60.4167   67.2012   73.6202   75.6098\n",
      "\n",
      "-------------------------------------------------------------------------------\n",
      "sgrnt_low_inc                                            State Grant Low Income\n",
      "-------------------------------------------------------------------------------\n",
      "\n",
      "                  Type: Numeric (float)\n",
      "\n",
      "                 Range: [438.66541,31988.313]         Units: .00001\n",
      "         Unique values: 33                        Missing .: 0/33\n",
      "\n",
      "                  Mean:  5975.7\n",
      "             Std. dev.: 5837.97\n",
      "\n",
      "           Percentiles:     10%       25%       50%       75%       90%\n",
      "                        714.635   1529.61   5026.69   8263.27   10553.3\n"
     ]
    }
   ],
   "source": [
    "label variable y_lo_inc_rpy \"Loan Repayment Percent\"\n",
    "label variable sgrnt_low_~c \"State Grant Low Income\"\n",
    "codebook y_lo_inc_rpy sgrnt_low_~c"
   ]
  },
  {
   "cell_type": "code",
   "execution_count": 6,
   "metadata": {
    "tags": []
   },
   "outputs": [
    {
     "name": "stdout",
     "output_type": "stream",
     "text": [
      "\n",
      "    Variable |        Obs        Mean    Std. dev.       Min        Max\n",
      "-------------+---------------------------------------------------------\n",
      "sgrnt_low_~c |         33    5975.703    5837.969   438.6654   31988.31\n",
      "y_lo_inc_rpy |         33    66.22106     8.30001    47.9304    78.4337\n"
     ]
    }
   ],
   "source": [
    "sum  sgrnt_low_~c y_lo_inc_rpy  "
   ]
  },
  {
   "cell_type": "code",
   "execution_count": 7,
   "metadata": {
    "tags": []
   },
   "outputs": [],
   "source": [
    "xtile stategrantquant = sgrnt_low_inc, nq(5)"
   ]
  },
  {
   "cell_type": "code",
   "execution_count": 8,
   "metadata": {
    "tags": []
   },
   "outputs": [
    {
     "name": "stdout",
     "output_type": "stream",
     "text": [
      "\n",
      "                   State Grant Low Income\n",
      "-------------------------------------------------------------\n",
      "      Percentiles      Smallest\n",
      " 1%     438.6654       438.6654\n",
      " 5%     602.3331       602.3331\n",
      "10%     714.6354       656.8206       Obs                  33\n",
      "25%     1529.607       714.6354       Sum of wgt.          33\n",
      "\n",
      "50%     5026.689                      Mean           5975.703\n",
      "                        Largest       Std. dev.      5837.969\n",
      "75%     8263.273       10553.27\n",
      "90%     10553.27       10871.33       Variance       3.41e+07\n",
      "95%     11045.71       11045.71       Skewness       2.690303\n",
      "99%     31988.31       31988.31       Kurtosis       12.95795\n",
      "\n",
      "5 quantiles |\n",
      "         of |\n",
      "sgrnt_low_i |\n",
      "         nc |      Freq.     Percent        Cum.\n",
      "------------+-----------------------------------\n",
      "          1 |          7       21.21       21.21\n",
      "          2 |          7       21.21       42.42\n",
      "          3 |          6       18.18       60.61\n",
      "          4 |          7       21.21       81.82\n",
      "          5 |          6       18.18      100.00\n",
      "------------+-----------------------------------\n",
      "      Total |         33      100.00\n"
     ]
    }
   ],
   "source": [
    "sum sgrnt_low_inc, detail\n",
    "tab stategrantquant"
   ]
  },
  {
   "cell_type": "code",
   "execution_count": 9,
   "metadata": {
    "tags": []
   },
   "outputs": [
    {
     "data": {
      "text/html": [
       "<div>\n",
       "<style scoped>\n",
       "    .dataframe tbody tr th:only-of-type {\n",
       "        vertical-align: middle;\n",
       "    }\n",
       "\n",
       "    .dataframe tbody tr th {\n",
       "        vertical-align: top;\n",
       "    }\n",
       "\n",
       "    .dataframe thead th {\n",
       "        text-align: right;\n",
       "    }\n",
       "</style>\n",
       "<table border=\"1\" class=\"dataframe\">\n",
       "  <thead>\n",
       "    <tr style=\"text-align: right;\">\n",
       "      <th></th>\n",
       "      <th>y_lo_inc_rpy</th>\n",
       "      <th>sgrnt_low_inc</th>\n",
       "      <th>stategrantquant</th>\n",
       "    </tr>\n",
       "  </thead>\n",
       "  <tbody>\n",
       "    <tr>\n",
       "      <th>1</th>\n",
       "      <td>57.2512</td>\n",
       "      <td>438.6654</td>\n",
       "      <td>1</td>\n",
       "    </tr>\n",
       "    <tr>\n",
       "      <th>2</th>\n",
       "      <td>74.3373</td>\n",
       "      <td>9742.227</td>\n",
       "      <td>5</td>\n",
       "    </tr>\n",
       "    <tr>\n",
       "      <th>3</th>\n",
       "      <td>78.4337</td>\n",
       "      <td>10214.98</td>\n",
       "      <td>5</td>\n",
       "    </tr>\n",
       "    <tr>\n",
       "      <th>4</th>\n",
       "      <td>73.6202</td>\n",
       "      <td>11045.71</td>\n",
       "      <td>5</td>\n",
       "    </tr>\n",
       "    <tr>\n",
       "      <th>5</th>\n",
       "      <td>72.9519</td>\n",
       "      <td>9523.463</td>\n",
       "      <td>4</td>\n",
       "    </tr>\n",
       "  </tbody>\n",
       "</table>\n",
       "</div>"
      ]
     },
     "metadata": {},
     "output_type": "display_data"
    }
   ],
   "source": [
    "%head y_lo_inc_rpy sgrnt_low_inc stategrantquant"
   ]
  },
  {
   "cell_type": "code",
   "execution_count": 10,
   "metadata": {
    "tags": []
   },
   "outputs": [
    {
     "name": "stdout",
     "output_type": "stream",
     "text": [
      "\n",
      "    Variable |        Obs        Mean    Std. dev.       Min        Max\n",
      "-------------+---------------------------------------------------------\n",
      "sgrnt_low_~c |          6    14069.31    8790.926   9742.227   31988.31\n"
     ]
    }
   ],
   "source": [
    "sum sgrnt_low_inc if stategrantquant==5"
   ]
  },
  {
   "cell_type": "markdown",
   "metadata": {},
   "source": [
    "# Basic Linear Regression"
   ]
  },
  {
   "cell_type": "code",
   "execution_count": 11,
   "metadata": {
    "tags": []
   },
   "outputs": [
    {
     "name": "stdout",
     "output_type": "stream",
     "text": [
      "\n",
      "      Source |       SS           df       MS      Number of obs   =        33\n",
      "-------------+----------------------------------   F(1, 31)        =     11.56\n",
      "       Model |  598.734324         1  598.734324   Prob > F        =    0.0019\n",
      "    Residual |  1605.75096        31   51.798418   R-squared       =    0.2716\n",
      "-------------+----------------------------------   Adj R-squared   =    0.2481\n",
      "       Total |  2204.48528        32  68.8901651   Root MSE        =    7.1971\n",
      "\n",
      "------------------------------------------------------------------------------\n",
      "y_lo_inc_rpy | Coefficient  Std. err.      t    P>|t|     [95% conf. interval]\n",
      "-------------+----------------------------------------------------------------\n",
      "sgrnt_low_~c |   .0007409   .0002179     3.40   0.002     .0002965    .0011854\n",
      "       _cons |   61.79345   1.807105    34.19   0.000     58.10783    65.47906\n",
      "------------------------------------------------------------------------------\n",
      "(est1 stored)\n"
     ]
    }
   ],
   "source": [
    "eststo: reg y_lo_inc_rpy sgrnt_low_inc"
   ]
  },
  {
   "cell_type": "code",
   "execution_count": 12,
   "metadata": {
    "tags": []
   },
   "outputs": [
    {
     "name": "stdout",
     "output_type": "stream",
     "text": [
      "(bin=5, start=438.66541, width=2726.1288)\n",
      "(bin=5, start=0, width=3583.8004)\n"
     ]
    },
    {
     "data": {
      "image/png": "[encoded data removed]",
      "text/plain": [
       "<IPython.core.display.Image object>"
      ]
     },
     "metadata": {},
     "output_type": "display_data"
    },
    {
     "data": {
      "image/png": "[encoded data removed]",
      "text/plain": [
       "<IPython.core.display.Image object>"
      ]
     },
     "metadata": {},
     "output_type": "display_data"
    }
   ],
   "source": [
    "mkspline stategrant1 14069.31 stategrant2 = sgrnt_low_inc\n",
    "\n",
    "histogram stategrant1, name(hist1)\n",
    "histogram stategrant2, name(hist2)"
   ]
  },
  {
   "cell_type": "code",
   "execution_count": 13,
   "metadata": {
    "tags": []
   },
   "outputs": [
    {
     "name": "stdout",
     "output_type": "stream",
     "text": [
      "\n",
      "      Source |       SS           df       MS      Number of obs   =        33\n",
      "-------------+----------------------------------   F(2, 30)        =      9.94\n",
      "       Model |   878.49794         2   439.24897   Prob > F        =    0.0005\n",
      "    Residual |  1325.98734        30  44.1995781   R-squared       =    0.3985\n",
      "-------------+----------------------------------   Adj R-squared   =    0.3584\n",
      "       Total |  2204.48528        32  68.8901651   Root MSE        =    6.6483\n",
      "\n",
      "------------------------------------------------------------------------------\n",
      "y_lo_inc_rpy | Coefficient  Std. err.      t    P>|t|     [95% conf. interval]\n",
      "-------------+----------------------------------------------------------------\n",
      " stategrant1 |    .001416   .0003354     4.22   0.000     .0007309     .002101\n",
      " stategrant2 |  -.0001635    .000412    -0.40   0.694    -.0010049     .000678\n",
      "       _cons |   58.61725   2.092937    28.01   0.000     54.34291     62.8916\n",
      "------------------------------------------------------------------------------\n",
      "(est2 stored)\n",
      "(option xb assumed; fitted values)\n"
     ]
    },
    {
     "data": {
      "image/png": "[encoded data removed]",
      "text/plain": [
       "<IPython.core.display.Image object>"
      ]
     },
     "metadata": {},
     "output_type": "display_data"
    }
   ],
   "source": [
    "eststo: reg y_lo_inc_rpy stategrant1 stategrant2\n",
    "predict yhat\n",
    "\n",
    "tw (scatter y_lo_inc_rpy sgrnt_low_inc) (line yhat y_lo_inc_rpy, sort color(red) lwidth(thick))"
   ]
  },
  {
   "cell_type": "code",
   "execution_count": 14,
   "metadata": {
    "tags": []
   },
   "outputs": [
    {
     "name": "stdout",
     "output_type": "stream",
     "text": [
      "\n",
      "--------------------------------------------\n",
      "                      (1)             (2)   \n",
      "             y_lo_inc_rpy    y_lo_inc_rpy   \n",
      "--------------------------------------------\n",
      "sgrnt_low_~c     0.000741**                 \n",
      "                   (3.40)                   \n",
      "\n",
      "stategrant1                       0.00142***\n",
      "                                   (4.22)   \n",
      "\n",
      "stategrant2                     -0.000163   \n",
      "                                  (-0.40)   \n",
      "\n",
      "_cons               61.79***        58.62***\n",
      "                  (34.19)         (28.01)   \n",
      "--------------------------------------------\n",
      "N                      33              33   \n",
      "--------------------------------------------\n",
      "t statistics in parentheses\n",
      "* p<0.05, ** p<0.01, *** p<0.001\n"
     ]
    }
   ],
   "source": [
    "esttab"
   ]
  },
  {
   "cell_type": "markdown",
   "metadata": {},
   "source": [
    "# Making a Piecwise Cubic Spline"
   ]
  },
  {
   "cell_type": "code",
   "execution_count": 15,
   "metadata": {
    "tags": []
   },
   "outputs": [
    {
     "name": "stdout",
     "output_type": "stream",
     "text": [
      "\n",
      "             |     knot1      knot2      knot3      knot4      knot5 \n",
      "-------------+-------------------------------------------------------\n",
      "y_lo_inc_rpy |   57.0114   60.55138    67.2012   73.38629    75.5474 \n"
     ]
    }
   ],
   "source": [
    "mkspline stategrant1 = y_lo_inc_rpy, cubic displayknots"
   ]
  },
  {
   "cell_type": "code",
   "execution_count": 16,
   "metadata": {
    "tags": []
   },
   "outputs": [
    {
     "name": "stdout",
     "output_type": "stream",
     "text": [
      "\n",
      "      Source |       SS           df       MS      Number of obs   =        33\n",
      "-------------+----------------------------------   F(1, 31)        =     11.56\n",
      "       Model |  598.734324         1  598.734324   Prob > F        =    0.0019\n",
      "    Residual |  1605.75096        31   51.798418   R-squared       =    0.2716\n",
      "-------------+----------------------------------   Adj R-squared   =    0.2481\n",
      "       Total |  2204.48528        32  68.8901651   Root MSE        =    7.1971\n",
      "\n",
      "------------------------------------------------------------------------------\n",
      "y_lo_inc_rpy | Coefficient  Std. err.      t    P>|t|     [95% conf. interval]\n",
      "-------------+----------------------------------------------------------------\n",
      "sgrnt_low_~c |   .0007409   .0002179     3.40   0.002     .0002965    .0011854\n",
      "       _cons |   61.79345   1.807105    34.19   0.000     58.10783    65.47906\n",
      "------------------------------------------------------------------------------\n",
      "(est3 stored)\n"
     ]
    }
   ],
   "source": [
    "eststo: reg y_lo_inc_rpy sgrnt_low_inc"
   ]
  },
  {
   "cell_type": "code",
   "execution_count": 17,
   "metadata": {
    "tags": []
   },
   "outputs": [
    {
     "name": "stdout",
     "output_type": "stream",
     "text": [
      "(option xb assumed; fitted values)\n"
     ]
    }
   ],
   "source": [
    "predict yhat2"
   ]
  },
  {
   "cell_type": "code",
   "execution_count": 18,
   "metadata": {
    "tags": []
   },
   "outputs": [
    {
     "data": {
      "image/png": "[encoded data removed]",
      "text/plain": [
       "<IPython.core.display.Image object>"
      ]
     },
     "metadata": {},
     "output_type": "display_data"
    }
   ],
   "source": [
    "tw (scatter y_lo_inc_rpy sgrnt_low_inc) (line yhat2 y_lo_inc_rpy, sort color(red) lwidth(thick))"
   ]
  },
  {
   "cell_type": "code",
   "execution_count": 19,
   "metadata": {
    "tags": []
   },
   "outputs": [
    {
     "name": "stdout",
     "output_type": "stream",
     "text": [
      "\n",
      "------------------------------------------------------------\n",
      "                      (1)             (2)             (3)   \n",
      "             y_lo_inc_rpy    y_lo_inc_rpy    y_lo_inc_rpy   \n",
      "------------------------------------------------------------\n",
      "sgrnt_low_~c     0.000741**                      0.000741** \n",
      "                   (3.40)                          (3.40)   \n",
      "\n",
      "stategrant1                       0.00142***                \n",
      "                                   (4.22)                   \n",
      "\n",
      "stategrant2                     -0.000163                   \n",
      "                                  (-0.40)                   \n",
      "\n",
      "_cons               61.79***        58.62***        61.79***\n",
      "                  (34.19)         (28.01)         (34.19)   \n",
      "------------------------------------------------------------\n",
      "N                      33              33              33   \n",
      "------------------------------------------------------------\n",
      "t statistics in parentheses\n",
      "* p<0.05, ** p<0.01, *** p<0.001\n"
     ]
    }
   ],
   "source": [
    "esttab"
   ]
  },
  {
   "cell_type": "code",
   "execution_count": 20,
   "metadata": {
    "tags": []
   },
   "outputs": [
    {
     "name": "stdout",
     "output_type": "stream",
     "text": [
      "\n",
      "------------------------------------------------------------\n",
      "                      (1)             (2)             (3)   \n",
      "             y_lo_inc_rpy    y_lo_inc_rpy    y_lo_inc_rpy   \n",
      "                     b/se            b/se            b/se   \n",
      "------------------------------------------------------------\n",
      "sgrnt_low_~c        0.001**                         0.001** \n",
      "                  (0.000)                         (0.000)   \n",
      "stategrant1                         0.001***                \n",
      "                                  (0.000)                   \n",
      "stategrant2                        -0.000                   \n",
      "                                  (0.000)                   \n",
      "_cons              61.793***       58.617***       61.793***\n",
      "                  (1.807)         (2.093)         (1.807)   \n",
      "------------------------------------------------------------\n",
      "R-Aquared           0.272           0.399           0.272   \n",
      "N                  33.000          33.000          33.000   \n",
      "------------------------------------------------------------\n"
     ]
    }
   ],
   "source": [
    "esttab, stats(r2 N, labels(\"R-Aquared\" \"N\")) cells(b(star fmt(3)) ///\n",
    "se(fm(3) par)) nobase"
   ]
  },
  {
   "cell_type": "code",
   "execution_count": 21,
   "metadata": {
    "tags": []
   },
   "outputs": [
    {
     "name": "stdout",
     "output_type": "stream",
     "text": [
      "      name:  <unnamed>\n",
      "       log:  /Users/camellia/Documents/Stats 2/soc211_assignments/Week 7/week7_\n",
      "> log.log\n",
      "  log type:  text\n",
      " closed on:   6 Mar 2024, 15:38:00\n",
      "-------------------------------------------------------------------------------\n"
     ]
    }
   ],
   "source": [
    "log close"
   ]
  },
  {
   "cell_type": "markdown",
   "metadata": {},
   "source": [
    "## 3. Interpret the results [1 pt]\n",
    "\n",
    "    A. Say whether the results support or contradict your hypothesis and why\n",
    "    \n",
    "    B. Say whether a linear or particular non-linear model best describes your data and why"
   ]
  },
  {
   "cell_type": "markdown",
   "metadata": {},
   "source": [
    "A. The two spline models (1. linear spline 2. piecewise cubic spline) are not good representations of my\n",
    "hypothesis mentioned at the beginning of this assignment.\n",
    "\n",
    "B. The basic linear regression model better describes my data since the P value in the linear regression\n",
    "model is 0.002, which is significant, while the basic linear regression and oiecewise cubic spline have similar\n",
    "R-squared and P value, the basic cubic spline suffers from overfitting."
   ]
  },
  {
   "cell_type": "code",
   "execution_count": null,
   "metadata": {},
   "outputs": [],
   "source": []
  }
 ],
 "metadata": {
  "kernelspec": {
   "display_name": "Stata (nbstata)",
   "language": "stata",
   "name": "nbstata"
  },
  "language_info": {
   "file_extension": ".do",
   "mimetype": "text/x-stata",
   "name": "stata",
   "version": "17"
  }
 },
 "nbformat": 4,
 "nbformat_minor": 4
}
